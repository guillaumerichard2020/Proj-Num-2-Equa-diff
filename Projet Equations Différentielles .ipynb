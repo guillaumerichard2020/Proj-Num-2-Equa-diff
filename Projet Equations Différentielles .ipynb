{
 "cells": [
  {
   "cell_type": "code",
   "execution_count": 1,
   "metadata": {},
   "outputs": [],
   "source": [
    "from mpl_toolkits.mplot3d import Axes3D\n",
    "import numpy as np \n",
    "import matplotlib.pyplot as plt\n",
    "import seaborn as sns\n",
    "sns.set()\n",
    "%matplotlib notebook \n",
    "from scipy.integrate import solve_ivp"
   ]
  },
  {
   "cell_type": "code",
   "execution_count": 2,
   "metadata": {},
   "outputs": [],
   "source": [
    "def Q(f, xs, ys):\n",
    "    X, Y = np.meshgrid(xs, ys)\n",
    "    fx = np.vectorize(lambda x, y: f([x, y])[0])\n",
    "    fy = np.vectorize(lambda x, y: f([x, y])[1])\n",
    "    return X, Y, fx(X, Y), fy(X, Y)"
   ]
  },
  {
   "cell_type": "markdown",
   "metadata": {},
   "source": [
    "Portrait de phase\n",
    "==========="
   ]
  },
  {
   "cell_type": "code",
   "execution_count": null,
   "metadata": {},
   "outputs": [],
   "source": [
    "def f(x) : \n",
    "    return \"str\""
   ]
  },
  {
   "cell_type": "markdown",
   "metadata": {},
   "source": [
    "Un pendule d'angle $\\theta$, vitesse angulaire $\\omega$, longueur $\\ell$, masse $m$, et coefficient de frottement $\\rho$ évolue selon\n",
    "\n",
    "$$\n",
    "  \\begin{array}{lll}\n",
    "  \\dot{\\theta} &=& \\omega \\\\\n",
    "  \\dot{\\omega} &=& - \\frac{\\rho}{m\\ell^2} \\omega -\\frac{g}{\\ell} \\sin \\theta  \n",
    "  \\end{array}\n",
    "  $$\n"
   ]
  }
 ],
 "metadata": {
  "kernelspec": {
   "display_name": "Python 3",
   "language": "python",
   "name": "python3"
  },
  "language_info": {
   "codemirror_mode": {
    "name": "ipython",
    "version": 3
   },
   "file_extension": ".py",
   "mimetype": "text/x-python",
   "name": "python",
   "nbconvert_exporter": "python",
   "pygments_lexer": "ipython3",
   "version": "3.7.7"
  }
 },
 "nbformat": 4,
 "nbformat_minor": 2
}