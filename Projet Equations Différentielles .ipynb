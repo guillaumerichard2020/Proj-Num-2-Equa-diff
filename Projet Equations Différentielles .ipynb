{
 "cells": [
  {
   "cell_type": "code",
   "execution_count": 1,
   "metadata": {},
   "outputs": [],
   "source": [
    "from mpl_toolkits.mplot3d import Axes3D\n",
    "import numpy as np \n",
    "import matplotlib.pyplot as plt\n",
    "import seaborn as sns\n",
    "sns.set()\n",
    "%matplotlib notebook \n",
    "from scipy.integrate import solve_ivp"
   ]
  },
  {
   "cell_type": "code",
   "execution_count": 2,
   "metadata": {},
   "outputs": [],
   "source": [
    "def Q(f, xs, ys):\n",
    "    X, Y = np.meshgrid(xs, ys)\n",
    "    fx = np.vectorize(lambda x, y: f([x, y])[0])\n",
    "    fy = np.vectorize(lambda x, y: f([x, y])[1])\n",
    "    return X, Y, fx(X, Y), fy(X, Y)"
   ]
  },
  {
   "cell_type": "markdown",
   "metadata": {},
   "source": [
    "Projet numérique n°2 : équations différentielles \n",
    "==========="
   ]
  },
  {
   "source": [
    "### Question 1 : \n",
    "\n",
    "$(\\imath)$ signification des termes des équations de Lotka-Volterra\n",
    "   - le terme en $\\alpha$ traduit le facteur de reproduction des proies\n",
    "\n",
    "   - le terme en $\\beta$ traduit le facteur d'élimination des proies par les prédateurs\n",
    "\n",
    "   - le terme en $\\gamma$ traduit le facteur de mort des prédateurs\n",
    "\n",
    "   - enfin, le terme en $\\delta$ traduit le facteur de reproduction des prédateurs\n",
    "\n",
    "$(\\imath \\imath)$ Recherche des points d'équilibre\n",
    "\n",
    "Les équations de Lotka-Volterra peuvent s'écrire sous la forme : $ \\frac{dX}{dt} = f(X) $ avec $X = \\begin{pmatrix}{x_1} \\\\ {x_2} \\end{pmatrix} $ et $f : (x_1,x_2) \\in \\mathbb{R}^2 \\mapsto (x_1(\\alpha - \\beta x_2) ; -x_2(\\gamma - \\delta x_1))$\n",
    "\n",
    "Pour trouver les éventuels points d'équilibre correspondant, on résout : \n",
    "$ f(x_1,x_2) = 0 \\Leftrightarrow \n",
    "\\left\\{\n",
    "   \\begin{array}{ll}\n",
    "      x_1(\\alpha - \\beta x_2) = 0 \\\\\n",
    "      - x_2(\\gamma - \\delta x_1) = 0\n",
    "   \\end{array}\n",
    "\\right.\n",
    "\\Leftrightarrow\n",
    "\\left\\{\n",
    "   \\begin{array}{ll}\n",
    "      (x_1, x_2) = (0, 0) \\\\\n",
    "      (x_1, x_2) = (\\frac{\\gamma}{\\delta}, \\frac{\\alpha}{\\beta})\n",
    "   \\end{array}\n",
    "\\right. \n",
    "$\n",
    "\n",
    "Il y a donc deux points d'équilibre : $(0, 0)$ et $(\\frac{\\gamma}{\\delta}, \\frac{\\alpha}{\\beta})$\n",
    "\n",
    "$(\\imath \\imath \\imath)$ Etude préliminaire de la stabilité des points d'équilibre \n",
    "\n",
    "Pour chaque point d'équilibre, comme $f$ est continuement différentiable (car polynômiale en $x_1$ et $x_2$), on utilise le critère de stabilité du linéarisé tangent en calculant \n",
    "$J_f (x) $ la matrice jacobienne de f et en l'évaluant en au point d'équilibre considéré. On observe ensuite le signe de la partie réelle des éventuelles valeurs propores. \n",
    "\n",
    "$J_f (x_1,x_2) = \n",
    "\\begin{pmatrix}\n",
    "\\alpha-\\beta x_2 \\;\\;\\;\\;\\; \\beta x_1 \\\\\n",
    "\\gamma x_2 \\;\\;\\;\\;\\; \\gamma x_1 - \\delta\n",
    "\\end{pmatrix}\n",
    "$\n",
    "\n",
    "   - point d'équilibre $(0,0)$ : \n",
    "$J_f (0,0) = \n",
    "\\begin{pmatrix}\n",
    "\\alpha \\;\\;\\;\\;\\; 0 \\\\\n",
    "0 \\;\\;\\;\\;\\; -\\gamma\n",
    "\\end{pmatrix}\n",
    "$\n",
    "\n",
    "Ainsi, $J_f (0,0)$ admet $\\alpha$ et $-\\gamma$ pour valeur propre et comme $\\alpha$ (réelle) a une partie réelle strictement positive, $(0,0)$ est instable.\n",
    "\n",
    "   - point d'équilibre $(\\frac{\\gamma}{\\delta}, \\frac{\\alpha}{\\beta})$ :\n",
    "$J_f (\\frac{\\gamma}{\\delta}, \\frac{\\alpha}{\\beta}) = \n",
    "\\begin{pmatrix}\n",
    "0 \\;\\;\\;\\;\\; - \\beta \\frac{\\gamma}{\\delta} \\\\\n",
    "\\sigma \\frac{\\alpha}{\\beta} \\;\\;\\;\\;\\; 0\n",
    "\\end{pmatrix}\n",
    "$\n",
    "\n",
    "Le polynome caractéristique de $J_f (\\frac{\\gamma}{\\delta}, \\frac{\\alpha}{\\beta})$ étant : $(X-i \\sqrt{\\alpha \\gamma})(X+i \\sqrt{\\alpha \\gamma})$, on en déduit que cette matrice admet deux valeurs propres à parties réelles nulles : $ i \\sqrt{\\alpha \\gamma}$ et $-i \\sqrt{\\alpha \\gamma}$. On ne peut donc conclure à ce stade sur la stabilité du point d'équilibre $(\\frac{\\gamma}{\\delta}, \\frac{\\alpha}{\\beta})$."
   ],
   "cell_type": "markdown",
   "metadata": {}
  },
  {
   "source": [
    "### Question 3 :\n",
    "\n",
    "Considérons le problème de Cauchy suivant, initialisé dans $\\mathbb{R}_{>0} \\times \\mathbb{R}_{>0}$ : \n",
    "$\n",
    "\\left\\{\n",
    "    \\begin{array}{ll}\n",
    "        \\frac{dX}{dt} = f(X) \\\\\n",
    "        X(t_0) = x_0\n",
    "    \\end{array}\n",
    "\\right.\n",
    "$\n",
    "\n",
    "Comme $f$ est continue et continuement différentiable, par le théorème de Cauchy-Lipschitz, ce problème admet une unique solution que l'on note $x$. Notons $J$ son ensemble de définition.\n",
    "\n",
    "Supposons qu'il existe $t_1 > t_0$ dans $J$ tel que $x(t_1) = (0,a)$ avec $a \\ge 0$\n",
    "\n",
    "$x$ est alors également l'unique solution du problème de Cauchy : \n",
    "$\n",
    "\\left\\{\n",
    "    \\begin{array}{ll}\n",
    "        \\frac{dX}{dt} = f(X) \\\\\n",
    "        X(t_1) = (0,a)\n",
    "    \\end{array}\n",
    "\\right.\n",
    "$\n",
    "\n",
    "Donc $x(t) = (0; aexp(-\\gamma(t-t_1)))$ ce qui est absurde puisque $x(t_0) \\in \\mathbb{R}_{>0} \\times \\mathbb{R}_{>0}$\n",
    "\n",
    "On a donc par continuité des solutions à l'équation différentielle que toute solution initialisée dans $\\mathbb{R}_{>0} \\times \\mathbb{R}_{>0}$ reste dans $\\mathbb{R}_{>0} \\times \\mathbb{R}$.\n",
    "\n",
    "De même, on montre que toute solution initialisée dans $\\mathbb{R}_{>0} \\times \\mathbb{R}_{>0}$ reste dans $\\mathbb{R} \\times \\mathbb{R_{>0}}$. Ce qui nous permet de conclure que toute solution initialisée dans $\\mathbb{R}_{>0} \\times \\mathbb{R}_{>0}$ reste dans $\\mathbb{R}_{>0} \\times \\mathbb{R}_{>0}$."
   ],
   "cell_type": "markdown",
   "metadata": {}
  }
 ],
 "metadata": {
  "kernelspec": {
   "display_name": "Python 3",
   "language": "python",
   "name": "python3"
  },
  "language_info": {
   "codemirror_mode": {
    "name": "ipython",
    "version": 3
   },
   "file_extension": ".py",
   "mimetype": "text/x-python",
   "name": "python",
   "nbconvert_exporter": "python",
   "pygments_lexer": "ipython3",
   "version": "3.7.7"
  }
 },
 "nbformat": 4,
 "nbformat_minor": 2
}